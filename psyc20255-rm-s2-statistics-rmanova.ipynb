{
 "cells": [
  {
   "cell_type": "markdown",
   "metadata": {},
   "source": [
    "### Repeated-measures ANOVA example with 3 conditions (auditory, visual, and audiovisual)\n",
    "\n",
    "Based on [Crosse et al (2015)](https://www.jneurosci.org/content/35/42/14195.full)\n",
    "\n",
    "This is the Python notebook I used to simulate the data and generate the figures for my lecture on repeated-measures ANOVA.\n",
    "To run the code, click on each block (a \"cell\") of code and click the \"play\" button near the top of the page. There is also a button at the top of the page to run all of the cells (the two right arrows, or \"fast-forward icon\", at the top).\n",
    "\n",
    "*This was partly written with the help of Microsoft Copilot.*"
   ]
  },
  {
   "cell_type": "code",
   "execution_count": 1,
   "metadata": {
    "execution": {
     "iopub.execute_input": "2024-11-05T15:27:39.695256Z",
     "iopub.status.busy": "2024-11-05T15:27:39.694814Z",
     "iopub.status.idle": "2024-11-05T15:27:41.342275Z",
     "shell.execute_reply": "2024-11-05T15:27:41.341003Z",
     "shell.execute_reply.started": "2024-11-05T15:27:39.695209Z"
    },
    "trusted": true
   },
   "outputs": [],
   "source": [
    "# Import necessary python packages\n",
    "import numpy as np\n",
    "import pandas as pd\n",
    "import matplotlib.pyplot as plt\n",
    "import seaborn as sns\n",
    "import pingouin as pg\n",
    "from scipy.stats import f\n",
    "\n",
    "# Set styles for plotting\n",
    "sns.set_style('whitegrid')\n",
    "sns.set_context('talk')"
   ]
  },
  {
   "cell_type": "code",
   "execution_count": null,
   "metadata": {},
   "outputs": [],
   "source": [
    "# Set random seed for reproducibility\n",
    "np.random.seed(42) ## I used this randomization seed when I made the figures in my lecture. \n",
    "    ## Otherwise, new data will be generated each time you run this.\n",
    "    ## To remove the line above, type \"#\" just before the \"np.\", and you will get new data each time this is run\n",
    "\n",
    "# Number of subjects and levels (conditions)\n",
    "n_subjects = 20\n",
    "levels = ['AV','A','V']\n",
    "n_levels = len(levels)\n",
    "\n",
    "# Mean values and standard deviation for each level\n",
    "means = [600, 650, 800]\n",
    "std_dev_sbj = 100 # this is the st. dev. across participants\n",
    "std_dev_wthn = 30 # this is the st. dev. within participants\n",
    "\n",
    "# Simulate data ensuring values are between 0 and 100\n",
    "data = []\n",
    "for subject in range(1, n_subjects + 1):\n",
    "    sbj_avg = np.random.normal(0, std_dev_sbj)\n",
    "    for level in range(1, n_levels + 1):\n",
    "        value = np.random.normal(means[level - 1], std_dev_wthn)\n",
    "        value = value+sbj_avg  # Ensure value is between 0 and 100\n",
    "        data.append([subject, levels[level-1], value])\n",
    "\n",
    "# Create a DataFrame\n",
    "df = pd.DataFrame(data, columns=['Subject', 'Condition', 'Response time'])"
   ]
  },
  {
   "cell_type": "code",
   "execution_count": null,
   "metadata": {},
   "outputs": [],
   "source": [
    "# Plot the data\n",
    "plt.figure(figsize=(10, 6))\n",
    "sns.lineplot(data=df, x='Condition', y='Response time', hue='Subject', marker='o')\n",
    "plt.title('Response time to target word')\n",
    "plt.xlabel('Condition')\n",
    "plt.ylabel('Response time (ms)')\n",
    "plt.legend(title='Subject', bbox_to_anchor=(1.05, 1), loc='upper left')\n",
    "plt.show()"
   ]
  },
  {
   "cell_type": "code",
   "execution_count": null,
   "metadata": {},
   "outputs": [],
   "source": [
    "# Run the repeated-measures ANOVA\n",
    "aov = pg.rm_anova(dv='Response time', within='Condition', subject='Subject', data=df, detailed=True, effsize=\"ng2\")\n",
    "# Display the overall results\n",
    "print(aov)"
   ]
  },
  {
   "cell_type": "code",
   "execution_count": null,
   "metadata": {},
   "outputs": [],
   "source": [
    "# Display individual important items\n",
    "# - Degrees of freedom\n",
    "dof1 = aov['DF'][0]\n",
    "dof2 = aov['DF'][1]\n",
    "print(f'Degrees of freedom: ({dof1},{dof2})')\n",
    "\n",
    "# - F-statistic\n",
    "Fstat = aov['F'][0]\n",
    "print(f\"F-statistic = {Fstat}\")\n",
    "\n",
    "# - p-value\n",
    "print(f\"p = {aov['p-unc'][0]}\")\n",
    "\n",
    "# - partial eta-squared\n",
    "print(f\"generalized eta-squared = {aov['ng2'][0]}\")"
   ]
  },
  {
   "cell_type": "code",
   "execution_count": null,
   "metadata": {},
   "outputs": [],
   "source": [
    "# rm_anova does not display the between subjects sum-of-squares. Calculate this effect manually\n",
    "SS_total = sum(np.power(df['Response time'] - df['Response time'].mean(),2))\n",
    "print(f'Total SS = {SS_total}')\n",
    "sbj_mean = df[['Subject','Response time']].groupby('Subject').mean()\n",
    "SS_sbj = sum(np.power(sbj_mean['Response time'] - df['Response time'].mean(),2)) * n_levels\n",
    "print(f'Between-subject SS = {SS_sbj}')\n",
    "print(f'Within-subject SS = {SS_total - SS_sbj}')\n",
    "\n",
    "# Does SS_sbj + SS_condition + SS_error = SS_total?\n",
    "print(f\"SS_sbj + SS_cond + SS_error = {SS_sbj + aov['SS'][0] + aov['SS'][1]}\")"
   ]
  },
  {
   "cell_type": "markdown",
   "metadata": {},
   "source": [
    "### Show the F-statistic and p-value calculation"
   ]
  },
  {
   "cell_type": "code",
   "execution_count": null,
   "metadata": {},
   "outputs": [],
   "source": [
    "# Define the range of x values\n",
    "x = np.linspace(0, 500, 1000)\n",
    "\n",
    "# Calculate the F-distribution values\n",
    "y = f.pdf(x, dof1, dof2)\n",
    "\n",
    "# Plot the F-distribution\n",
    "plt.plot(x, y, label=f'F-distribution ({dof1}, {dof2})')\n",
    "\n",
    "# Define the F-statistic value\n",
    "f_stat = Fstat\n",
    "\n",
    "# Label the F-statistic value on the plot\n",
    "plt.axvline(f_stat, color='r', linestyle='--', label=f'F-statistic = {f_stat:.1f}')\n",
    "\n",
    "# Shade the region for p-value calculation\n",
    "x_fill = np.linspace(f_stat, 500, 1000)\n",
    "y_fill = f.pdf(x_fill, dof1, dof2)\n",
    "plt.fill_between(x_fill, y_fill, alpha=1, color='gray', label='p-value region')\n",
    "\n",
    "# Add labels and title\n",
    "plt.yscale('log')\n",
    "plt.xlabel('F value')\n",
    "plt.ylabel('Probability density')\n",
    "plt.legend()\n",
    "\n",
    "# Show the plot\n",
    "plt.show()"
   ]
  },
  {
   "cell_type": "code",
   "execution_count": null,
   "metadata": {},
   "outputs": [],
   "source": [
    "# Create the same plot, using the linear y axis\n",
    "plt.plot(x, y, label=f'F-distribution ({dof1}, {dof2})') # Null distribution\n",
    "plt.axvline(f_stat, color='r', linestyle='--', label=f'F-statistic = {f_stat:.1f}')\n",
    "plt.fill_between(x_fill, y_fill, alpha=1, color='gray', label='p-value region')\n",
    "plt.yscale('linear')\n",
    "plt.xlabel('F value')\n",
    "plt.ylabel('Probability density')\n",
    "plt.legend()\n",
    "\n",
    "# Show the plot\n",
    "plt.show()"
   ]
  },
  {
   "cell_type": "markdown",
   "metadata": {},
   "source": [
    "### Demonstration of sphericity\n",
    "Plot the relationship between pairs of conditions, as well as the variability across subjects in the difference between conditions."
   ]
  },
  {
   "cell_type": "code",
   "execution_count": null,
   "metadata": {},
   "outputs": [],
   "source": [
    "# Make three plots showing the correlations between pairs of conditions\n",
    "paired_cond = df.pivot(columns='Condition',values='Response time',index='Subject')\n",
    "fig, axes = plt.subplots(1, 3, figsize=(15,5))\n",
    "sns.regplot(x='A', y='V', data=paired_cond, ax=axes[0])\n",
    "sns.regplot(x='AV', y='V', data=paired_cond, ax=axes[1])\n",
    "sns.regplot(x='AV', y='A', data=paired_cond, ax=axes[2])\n",
    "\n",
    "# Set to the same axes\n",
    "for n in range(3):\n",
    "    axes[n].set_xlim(400,1000)\n",
    "    axes[n].set_ylim(400,1000)\n",
    "\n",
    "plt.tight_layout()\n",
    "plt.show()"
   ]
  },
  {
   "cell_type": "code",
   "execution_count": null,
   "metadata": {},
   "outputs": [],
   "source": [
    "# Make the same set of subplots showing the variability in the difference between conditions\n",
    "diff_cond = {\n",
    "    'V-A': paired_cond['V']-paired_cond['A'],\n",
    "    'V-AV': paired_cond['V']-paired_cond['AV'],\n",
    "    'A-AV': paired_cond['A']-paired_cond['AV']\n",
    "}\n",
    "df_diff = pd.DataFrame(diff_cond)\n",
    "\n",
    "fig, axes = plt.subplots(figsize=(7,5))\n",
    "sns.boxplot(data=df_diff)\n",
    "sns.stripplot(data=df_diff, color=\".3\", size=6)\n",
    "axes.set(xlabel=\"Condition\",ylabel=\"Difference in response time\")\n",
    "plt.show()"
   ]
  },
  {
   "cell_type": "code",
   "execution_count": null,
   "metadata": {},
   "outputs": [],
   "source": [
    "# Display the result of Mauchly's test for sphericity\n",
    "spher, W, chi2, dof, pval = pg.sphericity(data=df, dv='Response time', within='Condition', subject='Subject')\n",
    "print(f'Sphericity: W = {W:.3f}, dof = {dof}, p = {pval:.3f}')"
   ]
  },
  {
   "cell_type": "markdown",
   "metadata": {},
   "source": [
    "### Multiple comparisons"
   ]
  },
  {
   "cell_type": "code",
   "execution_count": null,
   "metadata": {},
   "outputs": [],
   "source": [
    "# Calculate pairwise comparisons\n",
    "## By default Python uses paired t-tests (there isn't really a function to do emmeans in Python)\n",
    "## The Bonferroni corrected p-value is listed in the table under \"p-corr\"\n",
    "posthocs = pg.pairwise_tests(dv='Response time', within='Condition', subject='Subject', data=df, padjust='bonf')\n",
    "print(posthocs)"
   ]
  }
 ],
 "metadata": {
  "kaggle": {
   "accelerator": "none",
   "dataSources": [],
   "dockerImageVersionId": 30786,
   "isGpuEnabled": false,
   "isInternetEnabled": true,
   "language": "python",
   "sourceType": "notebook"
  },
  "kernelspec": {
   "display_name": "stats",
   "language": "python",
   "name": "python3"
  },
  "language_info": {
   "codemirror_mode": {
    "name": "ipython",
    "version": 3
   },
   "file_extension": ".py",
   "mimetype": "text/x-python",
   "name": "python",
   "nbconvert_exporter": "python",
   "pygments_lexer": "ipython3",
   "version": "3.13.0"
  }
 },
 "nbformat": 4,
 "nbformat_minor": 4
}
