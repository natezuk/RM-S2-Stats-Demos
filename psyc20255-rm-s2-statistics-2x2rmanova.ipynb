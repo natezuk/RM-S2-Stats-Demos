{
 "cells": [
  {
   "cell_type": "markdown",
   "metadata": {},
   "source": [
    "### Repeated measures ANOVA with two within-subject factors\n",
    "\n",
    "Based on [Breska & Deouell (2017)](https://journals.plos.org/plosbiology/article?id=10.1371/journal.pbio.2001665)\n",
    "\n",
    "This is the Python notebook I used to simulate the data and generate the figures for my lecture on repeated-measures ANOVA.\n",
    "To run the code, click on each block (a \"cell\") of code and click the \"play\" button near the top of the page. There is also a button at the top of the page to run all of the cells (the two right arrows, or \"fast-forward icon\", at the top).\n",
    "\n",
    "*This was partly written with the help of Microsoft Copilot.*"
   ]
  },
  {
   "cell_type": "code",
   "execution_count": null,
   "metadata": {},
   "outputs": [],
   "source": [
    "import numpy as np\n",
    "import pandas as pd\n",
    "import matplotlib.pyplot as plt\n",
    "import seaborn as sns\n",
    "import pingouin as pg\n",
    "from scipy.stats import f\n",
    "\n",
    "# Set styles for plotting\n",
    "sns.set_style('whitegrid')\n",
    "sns.set_context('talk')"
   ]
  },
  {
   "cell_type": "markdown",
   "metadata": {},
   "source": [
    "### Generate the data"
   ]
  },
  {
   "cell_type": "code",
   "execution_count": null,
   "metadata": {},
   "outputs": [],
   "source": [
    "# Set random seed for reproducibility\n",
    "np.random.seed(42)\n",
    "\n",
    "# Number of subjects and levels\n",
    "n_subjects = 21\n",
    "levels_target = ['Valid','Invalid']\n",
    "n_targets = len(levels_target)\n",
    "levels_temporal = ['Rhythmic','Random']\n",
    "n_temporal = len(levels_temporal)\n",
    "\n",
    "# Mean values and standard deviation for each level\n",
    "means = np.array([[225, 295], [280, 300]]) # columns are Valid / Invalid, rows are Rhythmic / Random\n",
    "std_dev_sbj = 115 # this is the st. dev. across participants\n",
    "std_dev_wthn = 40 # this is the st. dev. within participants\n",
    "\n",
    "# Simulate data ensuring values are between 0 and 100\n",
    "data = []\n",
    "for subject in range(0, n_subjects):\n",
    "    sbj_avg = np.random.normal(0, std_dev_sbj)\n",
    "    for ltmp in range(0, n_temporal):\n",
    "        for ltrgt in range(0, n_targets):\n",
    "            value = np.random.normal(means[ltmp,ltrgt], std_dev_wthn)\n",
    "            value = value+sbj_avg  # Ensure value is between 0 and 100\n",
    "            data.append([subject+1, levels_temporal[ltmp], levels_target[ltrgt], value])\n",
    "\n",
    "# Create a DataFrame\n",
    "df = pd.DataFrame(data, columns=['Subject', 'Temporal', 'Target', 'Response time'])"
   ]
  },
  {
   "cell_type": "code",
   "execution_count": null,
   "metadata": {},
   "outputs": [],
   "source": [
    "# Plot the data\n",
    "g = sns.FacetGrid(data=df, col='Temporal', height=5, aspect=0.7)\n",
    "g.map_dataframe(sns.lineplot, x='Target', y='Response time', hue='Subject', marker='o')\n",
    "g.map_dataframe(sns.lineplot, x='Target', y='Response time', hue='Subject', marker='o')\n",
    "plt.tight_layout()\n",
    "handles, labels = g.facet_axis(0,1).get_legend_handles_labels()\n",
    "plt.legend(handles[0:5], labels[0:5], title='Subject', bbox_to_anchor=(1.05, 1), loc='upper left')\n",
    "plt.show()"
   ]
  },
  {
   "cell_type": "code",
   "execution_count": null,
   "metadata": {},
   "outputs": [],
   "source": [
    "# Overlay both conditions, using a boxplot and strip plot\n",
    "plt.figure(figsize=(7,5))\n",
    "boxplot = sns.boxplot(data=df, x='Temporal', hue='Target', y='Response time')\n",
    "handles, labels = boxplot.get_legend_handles_labels()\n",
    "sns.stripplot(data=df, x='Temporal', hue='Target', y='Response time', dodge=True, palette='dark')\n",
    "plt.legend(handles, labels, bbox_to_anchor=(1.05, 1), loc='upper left')\n",
    "plt.ylabel('Response time (ms)')\n",
    "plt.show()"
   ]
  },
  {
   "cell_type": "markdown",
   "metadata": {},
   "source": [
    "### Run the 2x2 rmANOVA"
   ]
  },
  {
   "cell_type": "code",
   "execution_count": null,
   "metadata": {},
   "outputs": [],
   "source": [
    "# Run the repeated-measures ANOVA\n",
    "aov = pg.rm_anova(dv='Response time', within=['Temporal','Target'], subject='Subject', data=df, detailed=True, effsize=\"ng2\")\n",
    "# Display the overall results\n",
    "print(aov)"
   ]
  },
  {
   "cell_type": "code",
   "execution_count": null,
   "metadata": {},
   "outputs": [],
   "source": [
    "# rm_anova does not display the between subjects sum-of-squares. Calculate this effect manually\n",
    "SS_total = sum(np.power(df['Response time'] - df['Response time'].mean(),2))\n",
    "print(f'Total SS = {SS_total}')\n",
    "sbj_mean = df[['Subject','Response time']].groupby('Subject').mean()\n",
    "SS_sbj = sum(np.power(sbj_mean['Response time'] - df['Response time'].mean(),2)) * n_targets * n_temporal\n",
    "print(f'Between-subject SS = {SS_sbj}')\n",
    "print(f'Within-subject SS = {SS_total - SS_sbj}')\n",
    "print(f\"Error SS = {SS_total - SS_sbj - aov['SS'][0] - aov['SS'][1] - aov['SS'][2]}\")\n",
    "\n",
    "# Calculate individual WS error\n",
    "SSerr_tmp = aov['SS'][0]/aov['F'][0]*aov['ddof2'][0]\n",
    "SSerr_trg = aov['SS'][1]/aov['F'][1]*aov['ddof2'][1]\n",
    "SSerr_int = aov['SS'][2]/aov['F'][2]*aov['ddof2'][2]\n",
    "print(f\"Err(Temp) SS = {SSerr_tmp}\")\n",
    "print(f\"Err(Trgt) SS = {SSerr_trg}\")\n",
    "print(f\"Err(TempXTrgt) SS = {SSerr_int}\")\n",
    "print(f\"Expected WS Error SS = {SSerr_tmp + SSerr_trg + SSerr_int}\")\n",
    "\n",
    "# Does SS_sbj + SS_condition + SS_error = SS_total?\n",
    "print(f\"SS_sbj + SS_cond + SS_error = {SS_sbj + aov['SS'][0] + aov['SS'][1]}\")"
   ]
  },
  {
   "cell_type": "markdown",
   "metadata": {},
   "source": [
    "### Multiple comparisons"
   ]
  },
  {
   "cell_type": "code",
   "execution_count": null,
   "metadata": {},
   "outputs": [],
   "source": [
    "# Pairwise Comparisons using paired t-tests with Bonferroni correction (for 2 comparisons)\n",
    "posthocs = pg.pairwise_tests(dv='Response time', within=['Temporal','Target'], subject='Subject', data=df, padjust='bonf')\n",
    "print(posthocs)"
   ]
  }
 ],
 "metadata": {
  "kernelspec": {
   "display_name": "stats",
   "language": "python",
   "name": "python3"
  },
  "language_info": {
   "codemirror_mode": {
    "name": "ipython",
    "version": 3
   },
   "file_extension": ".py",
   "mimetype": "text/x-python",
   "name": "python",
   "nbconvert_exporter": "python",
   "pygments_lexer": "ipython3",
   "version": "3.13.0"
  }
 },
 "nbformat": 4,
 "nbformat_minor": 4
}
