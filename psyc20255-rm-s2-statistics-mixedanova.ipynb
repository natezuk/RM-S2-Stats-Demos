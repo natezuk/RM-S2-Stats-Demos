{
 "cells": [
  {
   "cell_type": "markdown",
   "metadata": {},
   "source": [
    "### Mixed ANOVA\n",
    "\n",
    "Based on [McDermott et al (2016)](https://www.nature.com/articles/nature18635)\n",
    "\n",
    "This is the Python notebook I used to simulate the data and generate the figures for my lecture on repeated-measures ANOVA.\n",
    "To run the code, click on each block (a \"cell\") of code and click the \"play\" button near the top of the page. There is also a button at the top of the page to run all of the cells (the two right arrows, or \"fast-forward icon\", at the top).\n",
    "\n",
    "*This was partly written with the help of Microsoft Copilot.*"
   ]
  },
  {
   "cell_type": "code",
   "execution_count": null,
   "metadata": {},
   "outputs": [],
   "source": [
    "import numpy as np\n",
    "import pandas as pd\n",
    "import matplotlib.pyplot as plt\n",
    "import seaborn as sns\n",
    "import pingouin as pg\n",
    "from scipy.stats import f\n",
    "\n",
    "# Set styles for plotting\n",
    "sns.set_style('whitegrid')\n",
    "sns.set_context('talk')"
   ]
  },
  {
   "cell_type": "markdown",
   "metadata": {},
   "source": [
    "### Generate the data"
   ]
  },
  {
   "cell_type": "code",
   "execution_count": null,
   "metadata": {},
   "outputs": [],
   "source": [
    "# Set random seed for reproducibility\n",
    "np.random.seed(42)\n",
    "\n",
    "# Number of subjects and levels\n",
    "n_subjects = [47,50] # number of participants for US and Tsimane respectively\n",
    "groups = ['US','Tsimane']\n",
    "n_groups = len(groups)\n",
    "levels_chord = ['Consonant','Dissonant']\n",
    "n_chord = len(levels_chord)\n",
    "\n",
    "# Mean values and standard deviation for each level\n",
    "# Based values on Fig 3\n",
    "means = np.array([[2.9, 2], [3, 3]]) # columns are Cons / Diss, rows are US / Tsimane\n",
    "std_dev_sbj = 0.5 # this is the st. dev. across participants\n",
    "std_dev_wthn = 0.3 # this is the st. dev. within participants\n",
    "\n",
    "data = []\n",
    "for subject in range(0, sum(n_subjects)):\n",
    "    sbj_avg = np.random.normal(0, std_dev_sbj)\n",
    "    grp_idx = int((subject+1)>n_subjects[0])\n",
    "    for chord in range(0, n_chord):\n",
    "        value = np.random.normal(means[grp_idx,chord], std_dev_wthn)\n",
    "        value = value+sbj_avg  \n",
    "        value = max(1,min(4,value)) # make sure the value is between 0 and 4\n",
    "        data.append([subject+1, groups[grp_idx], levels_chord[chord], value])\n",
    "\n",
    "# Create a DataFrame\n",
    "df = pd.DataFrame(data, columns=['Subject', 'Group', 'Chord', 'Pleasantness'])\n",
    "df.describe(include='all')"
   ]
  },
  {
   "cell_type": "code",
   "execution_count": null,
   "metadata": {},
   "outputs": [],
   "source": [
    "# Plot the data\n",
    "fig, ax = plt.subplots(1, 2, figsize=(9,5))\n",
    "sns.lineplot(data=df.loc[df['Group']=='US'], ax=ax[0], x='Chord', y='Pleasantness',\n",
    "             hue='Subject', marker='o', palette='crest')\n",
    "ax[0].set_title('US')\n",
    "ax[0].set_ylim([1, 4.2])\n",
    "ax[0].get_legend().set_visible(False)\n",
    "#ax[0].legend(title='Subject', bbox_to_anchor=(1.05, 1), loc='upper left')\n",
    "sns.lineplot(data=df.loc[df['Group']=='Tsimane'], ax=ax[1], x='Chord', y='Pleasantness', hue='Subject', marker='o', palette='flare')\n",
    "ax[1].set_title('Tsimane')\n",
    "ax[1].set_ylim([1, 4.2])\n",
    "ax[1].get_legend().set_visible(False)\n",
    "#ax[1].legend(title='Subject', bbox_to_anchor=(1.05, 1), loc='upper left')\n",
    "plt.tight_layout()\n",
    "plt.show()"
   ]
  },
  {
   "cell_type": "code",
   "execution_count": null,
   "metadata": {},
   "outputs": [],
   "source": [
    "# Overlay both conditions, using a boxplot and strip plot\n",
    "plt.figure(figsize=(6,5))\n",
    "boxplot = sns.boxplot(data=df, x='Group', hue='Chord', y='Pleasantness')\n",
    "handles, labels = boxplot.get_legend_handles_labels()\n",
    "sns.stripplot(data=df, x='Group', hue='Chord', y='Pleasantness', dodge=True, palette='dark')\n",
    "plt.legend(handles, labels, bbox_to_anchor=(1.05, 1), loc='upper left')\n",
    "plt.show()"
   ]
  },
  {
   "cell_type": "code",
   "execution_count": null,
   "metadata": {},
   "outputs": [],
   "source": [
    "# Line plot\n",
    "plt.figure(figsize=(5,4))\n",
    "sns.catplot(data=df, x='Chord', y='Pleasantness', hue='Group', kind='point', errorbar='se')\n",
    "plt.show()"
   ]
  },
  {
   "cell_type": "markdown",
   "metadata": {},
   "source": [
    "### Run the mixed ANOVA"
   ]
  },
  {
   "cell_type": "code",
   "execution_count": null,
   "metadata": {},
   "outputs": [],
   "source": [
    "# Run the repeated-measures ANOVA\n",
    "aov = pg.mixed_anova(dv='Pleasantness', between='Group', within='Chord', subject='Subject',\n",
    "                      data=df, effsize=\"ng2\")\n",
    "# Display the overall results\n",
    "print(aov)"
   ]
  },
  {
   "cell_type": "code",
   "execution_count": null,
   "metadata": {},
   "outputs": [],
   "source": [
    "# mixed_anova does not display the error. Calculate this effect manually\n",
    "SS_total = sum(np.power(df['Pleasantness'] - df['Pleasantness'].mean(),2))\n",
    "print(f'Total SS = {SS_total}')\n",
    "sbj_mean = df[['Subject','Pleasantness']].groupby('Subject').mean()\n",
    "SS_sbj = sum(np.power(sbj_mean['Pleasantness'] - df['Pleasantness'].mean(),2)) * n_chord\n",
    "print(f'Between-subject SS = {SS_sbj}')\n",
    "print(f'Within-subject SS = {SS_total - SS_sbj}')\n",
    "\n",
    "# Calculate within-subject and between-subject errors\n",
    "SSws_err = SS_total - SS_sbj - aov['SS'][1] - aov['SS'][2]\n",
    "SSbs_err = SS_sbj - aov['SS'][0]\n",
    "print(f\"Within-subject error SS = {SSws_err}\")\n",
    "print(f\"Between-subject error SS = {SSbs_err}\")\n",
    "\n",
    "# Re-calculate the F-statistics, make sure they match the expected values\n",
    "F_group = aov['SS'][0]/(SSbs_err/aov['DF2'][0])\n",
    "F_chord = aov['SS'][1]/(SSws_err/aov['DF2'][1])\n",
    "print(f'Expected F_group = {F_group}')\n",
    "print(f'Expected F_chord = {F_chord}')\n"
   ]
  },
  {
   "cell_type": "markdown",
   "metadata": {},
   "source": [
    "### Multiple comparisons"
   ]
  },
  {
   "cell_type": "code",
   "execution_count": null,
   "metadata": {},
   "outputs": [],
   "source": [
    "# Pairwise Comparisons using paired t-tests\n",
    "posthocs = pg.pairwise_tests(dv='Pleasantness', between='Group', within='Chord', subject='Subject', data=df, \n",
    "                             padjust='bonf', within_first=False)\n",
    "print(posthocs)"
   ]
  }
 ],
 "metadata": {
  "kernelspec": {
   "display_name": "Python 3",
   "language": "python",
   "name": "python3"
  },
  "language_info": {
   "codemirror_mode": {
    "name": "ipython",
    "version": 3
   },
   "file_extension": ".py",
   "mimetype": "text/x-python",
   "name": "python",
   "nbconvert_exporter": "python",
   "pygments_lexer": "ipython3",
   "version": "3.11.9"
  }
 },
 "nbformat": 4,
 "nbformat_minor": 4
}
